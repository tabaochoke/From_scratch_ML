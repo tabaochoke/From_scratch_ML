{
 "cells": [
  {
   "cell_type": "code",
   "execution_count": 1,
   "metadata": {},
   "outputs": [
    {
     "name": "stderr",
     "output_type": "stream",
     "text": [
      "<frozen importlib._bootstrap>:241: RuntimeWarning: scipy._lib.messagestream.MessageStream size changed, may indicate binary incompatibility. Expected 56 from C header, got 64 from PyObject\n"
     ]
    }
   ],
   "source": [
    "import numpy as np\n",
    "from sklearn import datasets\n",
    "from sklearn.model_selection import train_test_split"
   ]
  },
  {
   "cell_type": "code",
   "execution_count": 2,
   "metadata": {},
   "outputs": [],
   "source": [
    "class NaiveBayes :\n",
    "    def fit (self , X , Y):\n",
    "        m , n = X.shape\n",
    "        self._class = np.unique(Y)\n",
    "        number_of_class = len(self._class)\n",
    "        #init mean , var ,pc array\n",
    "        self.mean = np.zeros((number_of_class , n),dtype= np.float64)\n",
    "        self.var = np.zeros ((number_of_class , n), dtype= np.float64)\n",
    "        self.pc = np.zeros((number_of_class , 1), dtype= np.float64 )\n",
    "        #calculate mean ,var ,pc array\n",
    "        for cls in self._class :\n",
    "            X_c = X[cls == Y]\n",
    "            self.mean[cls,:] = np.mean(X_c , axis = 0)\n",
    "            self.var[cls,:] = np.var (X_c , axis =0)\n",
    "        clas , class_number = np.unique (Y ,return_counts= True)\n",
    "        self.pc = np.array(class_number / len(Y)).T\n",
    "    def predict (self , X):\n",
    "        return [self._predict(x) for x in X]\n",
    "    def _predict (self ,X):\n",
    "        poss_of_classes = []\n",
    "        for idx , cls in enumerate(self._class) :\n",
    "            p_c = np.log (self.pc [idx])\n",
    "            poss_of_class = np.sum(np.log (self.ccp (idx , X))) + p_c\n",
    "            poss_of_classes.append(poss_of_class)\n",
    "        return np.argmax(poss_of_classes)\n",
    "    def ccp (self , idx , x) :\n",
    "        mean = self.mean[idx]\n",
    "        var = self.var[idx]\n",
    "        form1 = np.sqrt(2*np.pi*var)\n",
    "        form2 = -((x - mean)**2/(2*var))\n",
    "        return np.exp(form2) / form1"
   ]
  },
  {
   "cell_type": "code",
   "execution_count": 3,
   "metadata": {},
   "outputs": [
    {
     "name": "stdout",
     "output_type": "stream",
     "text": [
      "Prediction [0, 1, 0, 1, 0, 1, 0, 0, 0, 0, 0, 1, 0, 1, 0, 0, 1, 1, 1, 1, 0, 0, 1, 0, 0, 1, 0, 0, 0, 1, 1, 1, 0, 0, 0, 0, 1, 1, 0, 1, 0, 1, 0, 0, 0, 0, 1, 1, 1, 1, 0, 1, 1, 1, 1, 0, 1, 0, 1, 0, 1, 0, 0, 1, 1, 1, 0, 0, 1, 1, 1, 1, 1, 0, 1, 0, 0, 1, 0, 1, 0, 0, 1, 0, 1, 0, 1, 0, 0, 1, 1, 1, 1, 1, 1, 1, 0, 0, 0, 0, 1, 0, 1, 0, 0, 0, 0, 1, 0, 1, 1, 1, 1, 1, 1, 0, 0, 1, 0, 0, 1, 1, 0, 1, 1, 1, 1, 1, 1, 1, 1, 0, 1, 1, 0, 1, 0, 0, 0, 1, 1, 0, 0, 0, 0, 0, 1, 0, 0, 0, 1, 0, 0, 0, 0, 0, 1, 0, 0, 0, 0, 1, 0, 0, 0, 0, 0, 0, 0, 1, 1, 0, 0, 0, 1, 1, 0, 0, 1, 1, 1, 1, 1, 1, 1, 0, 0, 0, 1, 1, 0, 0, 0, 0, 1, 0, 1, 1, 1, 1]\n",
      "Test [0 1 1 1 0 1 0 0 0 0 0 1 1 1 1 0 1 1 1 1 0 0 1 1 0 1 1 0 0 1 1 1 0 0 1 0 1\n",
      " 1 1 1 0 1 0 0 0 1 1 1 1 1 0 1 1 0 1 1 1 0 1 0 1 1 0 1 1 1 1 0 1 1 0 1 1 0\n",
      " 1 0 1 1 1 1 1 0 1 0 1 0 0 0 0 1 1 1 0 0 1 1 0 0 1 0 1 0 1 0 0 0 0 1 1 1 0\n",
      " 1 1 1 1 0 1 1 0 1 1 1 0 1 1 1 1 1 1 1 1 0 1 1 1 0 0 0 0 1 0 0 0 0 0 0 1 0\n",
      " 0 0 1 0 0 1 0 0 1 0 0 1 0 1 0 0 0 0 1 0 1 1 0 0 0 0 1 1 0 1 1 1 1 1 1 1 0\n",
      " 0 0 0 0 1 1 0 1 0 1 0 0 1 1 1]\n",
      "Accuracy : 0.81\n"
     ]
    }
   ],
   "source": [
    "#Create data and text\n",
    "def accuracy (predict , test) :\n",
    "        return np.sum( predict == test)/ len(test)\n",
    "X , y= datasets.make_classification(n_samples=1000,n_features= 10 ,n_classes=2 , random_state = 42)\n",
    "X_train , X_test , Y_train , Y_test = train_test_split(X , y ,test_size =0.2 , random_state= 42)\n",
    "nb = NaiveBayes()\n",
    "nb.fit(X_train , Y_train)\n",
    "prediction = nb.predict(X_test)\n",
    "print (\"Prediction {}\".format(prediction))\n",
    "print (\"Test {}\".format(Y_test))\n",
    "print (\"Accuracy : {}\".format(accuracy(prediction , Y_test)))"
   ]
  },
  {
   "cell_type": "code",
   "execution_count": 4,
   "metadata": {},
   "outputs": [
    {
     "ename": "AttributeError",
     "evalue": "module 'numpy' has no attribute 'nume'",
     "output_type": "error",
     "traceback": [
      "\u001b[0;31m---------------------------------------------------------------------------\u001b[0m",
      "\u001b[0;31mAttributeError\u001b[0m                            Traceback (most recent call last)",
      "\u001b[1;32m/home/bafo/ML_Data/From_scratch_ML/naive_bayes.ipynb Cell 4\u001b[0m in \u001b[0;36m<module>\u001b[0;34m\u001b[0m\n\u001b[0;32m----> <a href='vscode-notebook-cell:/home/bafo/ML_Data/From_scratch_ML/naive_bayes.ipynb#W3sZmlsZQ%3D%3D?line=0'>1</a>\u001b[0m np\u001b[39m.\u001b[39;49mnume\n",
      "File \u001b[0;32m~/.local/lib/python3.10/site-packages/numpy/__init__.py:315\u001b[0m, in \u001b[0;36m__getattr__\u001b[0;34m(attr)\u001b[0m\n\u001b[1;32m    312\u001b[0m     \u001b[39mfrom\u001b[39;00m \u001b[39m.\u001b[39;00m\u001b[39mtesting\u001b[39;00m \u001b[39mimport\u001b[39;00m Tester\n\u001b[1;32m    313\u001b[0m     \u001b[39mreturn\u001b[39;00m Tester\n\u001b[0;32m--> 315\u001b[0m \u001b[39mraise\u001b[39;00m \u001b[39mAttributeError\u001b[39;00m(\u001b[39m\"\u001b[39m\u001b[39mmodule \u001b[39m\u001b[39m{!r}\u001b[39;00m\u001b[39m has no attribute \u001b[39m\u001b[39m\"\u001b[39m\n\u001b[1;32m    316\u001b[0m                      \u001b[39m\"\u001b[39m\u001b[39m{!r}\u001b[39;00m\u001b[39m\"\u001b[39m\u001b[39m.\u001b[39mformat(\u001b[39m__name__\u001b[39m, attr))\n",
      "\u001b[0;31mAttributeError\u001b[0m: module 'numpy' has no attribute 'nume'"
     ]
    }
   ],
   "source": [
    "np.nume"
   ]
  }
 ],
 "metadata": {
  "kernelspec": {
   "display_name": "Python 3.10.7 64-bit",
   "language": "python",
   "name": "python3"
  },
  "language_info": {
   "codemirror_mode": {
    "name": "ipython",
    "version": 3
   },
   "file_extension": ".py",
   "mimetype": "text/x-python",
   "name": "python",
   "nbconvert_exporter": "python",
   "pygments_lexer": "ipython3",
   "version": "3.10.7"
  },
  "orig_nbformat": 4,
  "vscode": {
   "interpreter": {
    "hash": "e7370f93d1d0cde622a1f8e1c04877d8463912d04d973331ad4851f04de6915a"
   }
  }
 },
 "nbformat": 4,
 "nbformat_minor": 2
}
