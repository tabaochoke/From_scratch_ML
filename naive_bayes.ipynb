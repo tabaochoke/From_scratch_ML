{
 "cells": [
  {
   "cell_type": "code",
   "execution_count": 10,
   "metadata": {},
   "outputs": [
    {
     "name": "stderr",
     "output_type": "stream",
     "text": [
      "<frozen importlib._bootstrap>:241: RuntimeWarning: scipy._lib.messagestream.MessageStream size changed, may indicate binary incompatibility. Expected 56 from C header, got 64 from PyObject\n"
     ]
    }
   ],
   "source": [
    "import numpy as np\n",
    "from sklearn import datasets\n",
    "from sklearn.model_selection import train_test_split"
   ]
  },
  {
   "cell_type": "code",
   "execution_count": 30,
   "metadata": {},
   "outputs": [],
   "source": [
    "class NaiveBayes :\n",
    "    def fit (self , X , Y):\n",
    "        m , n = X.shape\n",
    "        self._class = np.unique(Y)\n",
    "        number_of_class = len(self._class)\n",
    "        #init mean , var ,pc array\n",
    "        self.mean = np.zeros((number_of_class , n),dtype= np.float64)\n",
    "        self.var = np.zeros ((number_of_class , n), dtype= np.float64)\n",
    "        self.pc = np.zeros((number_of_class , 1), dtype= np.float64 )\n",
    "        #calculate mean ,var ,pc array\n",
    "        for cls in self._class :\n",
    "            X_c = X[cls == Y]\n",
    "            self.mean[cls,:] = np.mean(X_c , axis = 0)\n",
    "            self.var[cls,:] = np.var (X_c , axis =0)\n",
    "        clas , class_number = np.unique (Y ,return_counts= True)\n",
    "        self.pc = np.array(class_number / len(Y)).T\n",
    "    def predict (self , X):\n",
    "        return [self._predict(x) for x in X]\n",
    "    def _predict (self ,X):\n",
    "        poss_of_classes = []\n",
    "        for idx , cls in enumerate(self._class) :\n",
    "            p_c = np.log (self.pc [idx])\n",
    "            poss_of_class = np.sum(np.log (self.ccp (idx , X))) + p_c\n",
    "            poss_of_classes.append(poss_of_class)\n",
    "        return np.argmax(poss_of_classes)\n",
    "    def ccp (self , idx , x) :\n",
    "        mean = self.mean[idx]\n",
    "        var = self.var[idx]\n",
    "        form1 = np.sqrt(2*np.pi*var)\n",
    "        form2 = -((x - mean)**2/(2*var))\n",
    "        return np.exp(form2) / form1"
   ]
  },
  {
   "cell_type": "code",
   "execution_count": 31,
   "metadata": {},
   "outputs": [
    {
     "name": "stdout",
     "output_type": "stream",
     "text": [
      "[0, 1, 0, 1, 0, 1, 0, 0, 0, 0, 0, 1, 0, 1, 0, 0, 1, 1, 1, 1, 0, 0, 1, 0, 0, 1, 0, 0, 0, 1, 1, 1, 0, 0, 0, 0, 1, 1, 0, 1, 0, 1, 0, 0, 0, 0, 1, 1, 1, 1, 0, 1, 1, 1, 1, 0, 1, 0, 1, 0, 1, 0, 0, 1, 1, 1, 0, 0, 1, 1, 1, 1, 1, 0, 1, 0, 0, 1, 0, 1, 0, 0, 1, 0, 1, 0, 1, 0, 0, 1, 1, 1, 1, 1, 1, 1, 0, 0, 0, 0, 1, 0, 1, 0, 0, 0, 0, 1, 0, 1, 1, 1, 1, 1, 1, 0, 0, 1, 0, 0, 1, 1, 0, 1, 1, 1, 1, 1, 1, 1, 1, 0, 1, 1, 0, 1, 0, 0, 0, 1, 1, 0, 0, 0, 0, 0, 1, 0, 0, 0, 1, 0, 0, 0, 0, 0, 1, 0, 0, 0, 0, 1, 0, 0, 0, 0, 0, 0, 0, 1, 1, 0, 0, 0, 1, 1, 0, 0, 1, 1, 1, 1, 1, 1, 1, 0, 0, 0, 1, 1, 0, 0, 0, 0, 1, 0, 1, 1, 1, 1]\n",
      "Test [0 1 1 1 0 1 0 0 0 0 0 1 1 1 1 0 1 1 1 1 0 0 1 1 0 1 1 0 0 1 1 1 0 0 1 0 1\n",
      " 1 1 1 0 1 0 0 0 1 1 1 1 1 0 1 1 0 1 1 1 0 1 0 1 1 0 1 1 1 1 0 1 1 0 1 1 0\n",
      " 1 0 1 1 1 1 1 0 1 0 1 0 0 0 0 1 1 1 0 0 1 1 0 0 1 0 1 0 1 0 0 0 0 1 1 1 0\n",
      " 1 1 1 1 0 1 1 0 1 1 1 0 1 1 1 1 1 1 1 1 0 1 1 1 0 0 0 0 1 0 0 0 0 0 0 1 0\n",
      " 0 0 1 0 0 1 0 0 1 0 0 1 0 1 0 0 0 0 1 0 1 1 0 0 0 0 1 1 0 1 1 1 1 1 1 1 0\n",
      " 0 0 0 0 1 1 0 1 0 1 0 0 1 1 1]\n",
      "Accuracy : 0.81\n"
     ]
    }
   ],
   "source": [
    "#Create data and text\n",
    "from random import random\n",
    "from lightgbm import train\n",
    "\n",
    "\n",
    "def accuracy (predict , test) :\n",
    "        return np.sum( predict == test)/ len(test)\n",
    "X , y= datasets.make_classification(n_samples=1000,n_features= 10 ,n_classes=2 , random_state = 42)\n",
    "X_train , X_test , Y_train , Y_test = train_test_split(X , y ,test_size =0.2 , random_state= 42)\n",
    "nb = NaiveBayes()\n",
    "nb.fit(X_train , Y_train)\n",
    "prediction = nb.predict(X_test)\n",
    "print (prediction)\n",
    "print (\"Test {}\".format(Y_test))\n",
    "print (\"Accuracy : {}\".format(accuracy(prediction , Y_test)))"
   ]
  },
  {
   "cell_type": "code",
   "execution_count": null,
   "metadata": {},
   "outputs": [],
   "source": [
    "np.nume"
   ]
  }
 ],
 "metadata": {
  "kernelspec": {
   "display_name": "Python 3.10.7 64-bit",
   "language": "python",
   "name": "python3"
  },
  "language_info": {
   "codemirror_mode": {
    "name": "ipython",
    "version": 3
   },
   "file_extension": ".py",
   "mimetype": "text/x-python",
   "name": "python",
   "nbconvert_exporter": "python",
   "pygments_lexer": "ipython3",
   "version": "3.10.7"
  },
  "orig_nbformat": 4,
  "vscode": {
   "interpreter": {
    "hash": "e7370f93d1d0cde622a1f8e1c04877d8463912d04d973331ad4851f04de6915a"
   }
  }
 },
 "nbformat": 4,
 "nbformat_minor": 2
}
