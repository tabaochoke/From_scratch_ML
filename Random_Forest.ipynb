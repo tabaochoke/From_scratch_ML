{
 "cells": [
  {
   "cell_type": "code",
   "execution_count": 6,
   "metadata": {},
   "outputs": [],
   "source": [
    "import numpy as np\n",
    "import pandas as pd\n",
    "import matplotlib.pyplot as plt\n",
    "%matplotlib inline\n",
    "from collections import Counter\n",
    "import sys\n",
    "    # caution: path[0] is reserved for script path (or '' in REPL)"
   ]
  },
  {
   "cell_type": "code",
   "execution_count": 7,
   "metadata": {},
   "outputs": [],
   "source": [
    "class Node :\n",
    "    def __init__(self , feat_idx = None, threshold = None , left_child = None , right_child = None , * , value = None) :\n",
    "        self.feat_idx = feat_idx\n",
    "        self.threshold = threshold\n",
    "        self.left_child = left_child\n",
    "        self.right_child = right_child\n",
    "        self.value = value\n",
    "    def is_leaf_node (self) :\n",
    "        return self.value is not None\n",
    "def entropy (y) :\n",
    "    return -np.sum (np.unique (y , return_counts= True)[1]/len (y) * np.log2(np.unique (y , return_counts= True)[1]/len (y)) )\n",
    "def Entropy(y):\n",
    "    hist = np.bincount(y)\n",
    "    ps = hist / len(y)\n",
    "    return -np.sum([p * np.log2(p) for p in ps if p > 0])\n",
    "\n",
    "class decision_tree :\n",
    "    def __init__(self , max_depth = 100 , min_sample_split = 3, n_features = 10 , ) :\n",
    "        self.max_depth = max_depth\n",
    "        self.min_sample_split = min_sample_split\n",
    "        self.root = None\n",
    "        self.n_features = 5\n",
    "        \n",
    "    def fit(self, X, y):\n",
    "        self.n_features = X.shape[1] if not self.n_features else min(self.n_features, X.shape[1])\n",
    "        self.root = self._grow_tree(X, y)\n",
    "        \n",
    "    def most_common_label (self, Y) :\n",
    "        return Counter (Y).most_common(1)[0][0]\n",
    "        \n",
    "    def _grow_tree (self , X , y , depth = 0 ):\n",
    "        m , n = X.shape\n",
    "        n_labels = len (np.unique(y))\n",
    "        if (depth >= self.max_depth or m < self.min_sample_split or n_labels == 1) :\n",
    "            leaf_value = self.most_common_label(y)\n",
    "            return Node (value= leaf_value)\n",
    "        else :\n",
    "            feature_idx = np.random.choice (n , self.n_features , replace = False)\n",
    "            best_feature , best_threshold = self._best_criteria(X , y , feature_idx)\n",
    "            \n",
    "            \n",
    "            left_idx , right_idx = self._split (X[:,best_feature] , best_threshold)\n",
    "            left_child = self._grow_tree ( X[left_idx , :] , y[left_idx] , depth +1) \n",
    "            right_child = self._grow_tree ( X[right_idx, :] , y[right_idx] , depth +1)\n",
    "            return Node (best_feature , best_threshold ,left_child , right_child)\n",
    "            \n",
    "    def _best_criteria(self, X, y , feature_idx) :\n",
    "        best_ig = -1 \n",
    "        best_feature_idx , best_threshold = None , None\n",
    "        for idx in feature_idx :\n",
    "            X_col_idx = X[: , idx]\n",
    "            thresholds = np.unique(X_col_idx)\n",
    "            for threshold in thresholds :\n",
    "                ig = self._information_gain (y , X_col_idx  , threshold)\n",
    "                if (ig > best_ig) :\n",
    "                    best_ig = ig\n",
    "                    best_feature_idx = idx\n",
    "                    best_threshold = threshold\n",
    "        return best_feature_idx , best_threshold\n",
    "    \n",
    "    \n",
    "    def _split(self, X_column, split_thresh):\n",
    "        left_idxs = np.argwhere(X_column <= split_thresh).flatten()\n",
    "        right_idxs = np.argwhere(X_column > split_thresh).flatten()\n",
    "        return left_idxs, right_idxs\n",
    "    \n",
    "    def _information_gain(self, y, X_column, split_thresh):\n",
    "        # parent loss\n",
    "        parent_entropy = entropy(y)\n",
    "\n",
    "        # generate split\n",
    "        left_idxs, right_idxs = self._split(X_column, split_thresh)\n",
    "\n",
    "        if len(left_idxs) == 0 or len(right_idxs) == 0:\n",
    "            return 0\n",
    "\n",
    "        # compute the weighted avg. of the loss for the children\n",
    "        n = len(y)\n",
    "        n_l, n_r = len(left_idxs), len(right_idxs)\n",
    "        e_l, e_r = entropy(y[left_idxs]), entropy(y[right_idxs])\n",
    "        child_entropy = (n_l / n) * e_l + (n_r / n) * e_r\n",
    "\n",
    "        # information gain is difference in loss before vs. after split\n",
    "        ig = parent_entropy - child_entropy\n",
    "        return ig\n",
    "\n",
    "    \n",
    "    def predict (self ,X) :\n",
    "        result =np.array ( [self._traverse_tree (x , self.root) for x in X ] )\n",
    "        return result\n",
    "    def _traverse_tree(self, x, node):\n",
    "        if node.is_leaf_node():\n",
    "            return node.value\n",
    "\n",
    "        if x[node.feat_idx] <= node.threshold:\n",
    "            return self._traverse_tree(x, node.left_child)\n",
    "        return self._traverse_tree(x, node.right_child)"
   ]
  },
  {
   "cell_type": "code",
   "execution_count": 79,
   "metadata": {},
   "outputs": [],
   "source": [
    "class Random_Forest (decision_tree) :\n",
    "    def __init__(self, max_depth = 100 , min_sample_split = 3, n_features = 10 ,number_of_tree =100):\n",
    "        super().__init__(max_depth , min_sample_split , n_features  )\n",
    "        self.number_of_tree = number_of_tree\n",
    "    def bootstrap (self , X , y) :\n",
    "        m , n = X.shape\n",
    "        n_features = int (np.round(np.log2(n)))\n",
    "        random_feature = np.random.choice ( n ,n_features , replace =False)\n",
    "        random_bootstrap_sample = np.random.choice (m , size= m , replace = True) \n",
    "        return X[random_bootstrap_sample], y[random_bootstrap_sample]\n",
    "    def fit (self , X , y ) :\n",
    "        self.trees = []\n",
    "        for _ in range(self.number_of_tree) :\n",
    "            dec_tree = decision_tree ()\n",
    "            random_X , random_y= self.bootstrap (X , y)\n",
    "            dec_tree.fit (random_X , random_y)\n",
    "            self.trees.append(dec_tree)\n",
    "    def predict (self , X) :\n",
    "        preds = np.array([tree.predict(X) for tree in self.trees])\n",
    "        preds = np.swapaxes (preds , 0 , 1)\n",
    "        preds = np.array ([Counter (pred).most_common(1)[0][0] for pred in preds])\n",
    "        return preds\n",
    "            \n",
    "\n",
    "def accuracy (predict , test) :\n",
    "        return np.sum( predict == test)/ len(predict)"
   ]
  },
  {
   "cell_type": "code",
   "execution_count": 81,
   "metadata": {},
   "outputs": [
    {
     "data": {
      "text/plain": [
       "0.42105263157894735"
      ]
     },
     "execution_count": 81,
     "metadata": {},
     "output_type": "execute_result"
    }
   ],
   "source": [
    "from sklearn import datasets\n",
    "from sklearn.model_selection import train_test_split\n",
    "dataset = datasets.load_breast_cancer ()\n",
    "X = dataset.data\n",
    "y = dataset.target\n",
    "X_train , X_test , Y_train , Y_test = train_test_split ( X , y , test_size= 0.2 , random_state= 42 )\n",
    "\n",
    "clf = Random_Forest (number_of_tree= 500)\n",
    "clf.fit (X_train , Y_train)\n",
    "y_pred = clf.predict (X_test)\n",
    "accuracy (y_pred , Y_test)"
   ]
  },
  {
   "cell_type": "code",
   "execution_count": 68,
   "metadata": {},
   "outputs": [
    {
     "data": {
      "text/plain": [
       "array([[21, 22],\n",
       "       [11, 22]])"
      ]
     },
     "execution_count": 68,
     "metadata": {},
     "output_type": "execute_result"
    }
   ],
   "source": [
    "a = np.array ([[21, 22 ,23],\n",
    " [11, 22, 33],\n",
    " [43 ,77 ,89]])\n",
    "a[np.array([0,1])][:,np.array([0,1])]"
   ]
  },
  {
   "cell_type": "code",
   "execution_count": null,
   "metadata": {},
   "outputs": [],
   "source": []
  }
 ],
 "metadata": {
  "kernelspec": {
   "display_name": "Python 3.10.7 64-bit",
   "language": "python",
   "name": "python3"
  },
  "language_info": {
   "codemirror_mode": {
    "name": "ipython",
    "version": 3
   },
   "file_extension": ".py",
   "mimetype": "text/x-python",
   "name": "python",
   "nbconvert_exporter": "python",
   "pygments_lexer": "ipython3",
   "version": "3.10.7"
  },
  "orig_nbformat": 4,
  "vscode": {
   "interpreter": {
    "hash": "e7370f93d1d0cde622a1f8e1c04877d8463912d04d973331ad4851f04de6915a"
   }
  }
 },
 "nbformat": 4,
 "nbformat_minor": 2
}
