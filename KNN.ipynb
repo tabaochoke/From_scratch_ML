{
 "cells": [
  {
   "cell_type": "code",
   "execution_count": 7,
   "metadata": {},
   "outputs": [],
   "source": [
    "import numpy as np\n",
    "import pandas as pd\n",
    "import matplotlib.pyplot as plt\n",
    "%matplotlib inline"
   ]
  },
  {
   "cell_type": "code",
   "execution_count": 45,
   "metadata": {},
   "outputs": [],
   "source": [
    "from collections import Counter\n",
    "#KNN la mot loai hoc may ma se khong he duoc train tu truoc, cach van hanh no nhu sau:\n",
    "#Moi khi can du doan mot diem du lieu nao do moi thi KNN se nhin vao bo data train\n",
    "#da co san label roi. Nhin xem, dau la diem gan giong voi diem ta dang xet nhat.\n",
    "#Trong nhung diem gan giong do ta se chon label la label chung nhieu nhat trong tat ca\n",
    "#Label duoc chon chinh la label cua du lieu ta dang tinh du doan.\n",
    "class KNN :\n",
    "    def __init__ (self , k = 3) :\n",
    "        self.k = k\n",
    "    def compute_distance (self , x1 , x2) :\n",
    "        return np.sqrt (np.sum(np.square(x1 - x2) , axis = 0))\n",
    "    def fit (self , X , Y):\n",
    "        self.X_train = X\n",
    "        self.Y_train = Y\n",
    "    def predict (self,X):\n",
    "        predict = [self._predict(x) for x in X]\n",
    "        return np.array(predict)\n",
    "    def _predict (self , x):\n",
    "        compute_distances = [self.compute_distance(x ,x_train) for x_train in self.X_train]\n",
    "        k_nearest = np.argsort(compute_distances)[:self.k]\n",
    "        k_nearest_label = [self.Y_train[indice] for indice in k_nearest]\n",
    "        vote = Counter (k_nearest_label).most_common(1)[0][0]\n",
    "        return vote\n",
    "\n",
    "        #np.argsort() sort array and return the position of that array\n",
    "def accuracy (predict , test) :\n",
    "        return np.sum( predict == test)/ len(predict)"
   ]
  },
  {
   "cell_type": "markdown",
   "metadata": {},
   "source": []
  },
  {
   "cell_type": "code",
   "execution_count": 48,
   "metadata": {},
   "outputs": [
    {
     "name": "stdout",
     "output_type": "stream",
     "text": [
      "1.0\n"
     ]
    }
   ],
   "source": [
    "from sklearn import datasets\n",
    "from sklearn.model_selection import train_test_split\n",
    "iris = datasets.load_iris()\n",
    "X , y = iris.data , iris.target\n",
    "X_train , X_test , Y_train , Y_test = train_test_split(X ,y , test_size=0.2 ,random_state=42)\n",
    "knn = KNN(15)\n",
    "knn.fit(X_train,Y_train)\n",
    "prediction = knn.predict(X_test)\n",
    "print (accuracy(prediction , Y_test))"
   ]
  },
  {
   "cell_type": "code",
   "execution_count": null,
   "metadata": {},
   "outputs": [],
   "source": []
  }
 ],
 "metadata": {
  "kernelspec": {
   "display_name": "Python 3.10.7 64-bit",
   "language": "python",
   "name": "python3"
  },
  "language_info": {
   "codemirror_mode": {
    "name": "ipython",
    "version": 3
   },
   "file_extension": ".py",
   "mimetype": "text/x-python",
   "name": "python",
   "nbconvert_exporter": "python",
   "pygments_lexer": "ipython3",
   "version": "3.10.7"
  },
  "orig_nbformat": 4,
  "vscode": {
   "interpreter": {
    "hash": "e7370f93d1d0cde622a1f8e1c04877d8463912d04d973331ad4851f04de6915a"
   }
  }
 },
 "nbformat": 4,
 "nbformat_minor": 2
}
