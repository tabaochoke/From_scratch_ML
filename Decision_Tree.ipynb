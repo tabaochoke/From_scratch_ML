{
 "cells": [
  {
   "cell_type": "code",
   "execution_count": 11,
   "metadata": {},
   "outputs": [],
   "source": [
    "import numpy as np\n",
    "import pandas as pd\n",
    "import matplotlib.pyplot as plt\n",
    "%matplotlib inline\n",
    "from collections import Counter"
   ]
  },
  {
   "cell_type": "code",
   "execution_count": 45,
   "metadata": {},
   "outputs": [],
   "source": [
    "class Node :\n",
    "    def __init__(self , feat_idx = None, threshold = None , left_child = None , right_child = None , * , value = None) :\n",
    "        self.feat_idx = feat_idx\n",
    "        self.threshold = threshold\n",
    "        self.left_child = left_child\n",
    "        self.right_child = right_child\n",
    "        self.value = value\n",
    "    def is_leaf_node (self) :\n",
    "        return self.value is not None\n",
    "def entropy (y) :\n",
    "    return -np.sum (np.unique (y , return_counts= True)[1]/len (y) * np.log2(np.unique (y , return_counts= True)[1]/len (y)) )\n",
    "def Entropy(y):\n",
    "    hist = np.bincount(y)\n",
    "    ps = hist / len(y)\n",
    "    return -np.sum([p * np.log2(p) for p in ps if p > 0])\n",
    "\n",
    "class decision_tree :\n",
    "    def __init__(self , max_depth = 100 , min_sample_split = 3, n_features = 10 , ) :\n",
    "        self.max_depth = max_depth\n",
    "        self.min_sample_split = min_sample_split\n",
    "        self.root = None\n",
    "        self.n_features = 5\n",
    "        \n",
    "    def fit(self, X, y):\n",
    "        self.n_features = X.shape[1] if not self.n_features else min(self.n_features, X.shape[1])\n",
    "        self.root = self._grow_tree(X, y)\n",
    "        \n",
    "    def most_common_label (self, Y) :\n",
    "        return Counter (Y).most_common(1)[0][0]\n",
    "        \n",
    "    def _grow_tree (self , X , y , depth = 0 ):\n",
    "        m , n = X.shape\n",
    "        n_labels = len (np.unique(y))\n",
    "        if (depth >= self.max_depth or m < self.min_sample_split or n_labels == 1) :\n",
    "            leaf_value = self.most_common_label(y)\n",
    "            return Node (value= leaf_value)\n",
    "        else :\n",
    "            feature_idx = np.random.choice (n , self.n_features , replace = False)\n",
    "            best_feature , best_threshold = self._best_criteria(X , y , feature_idx)\n",
    "            \n",
    "            \n",
    "            left_idx , right_idx = self._split (X[:,best_feature] , best_threshold)\n",
    "            left_child = self._grow_tree ( X[left_idx , :] , y[left_idx] , depth +1) \n",
    "            right_child = self._grow_tree ( X[right_idx, :] , y[right_idx] , depth +1)\n",
    "            return Node (best_feature , best_threshold ,left_child , right_child)\n",
    "            \n",
    "    def _best_criteria(self, X, y , feature_idx) :\n",
    "        best_ig = -1 \n",
    "        best_feature_idx , best_threshold = None , None\n",
    "        for idx in feature_idx :\n",
    "            X_col_idx = X[: , idx]\n",
    "            thresholds = np.unique(X_col_idx)\n",
    "            for threshold in thresholds :\n",
    "                ig = self.information_gain (y , X_col_idx  , threshold)\n",
    "                if (ig > best_ig) :\n",
    "                    best_ig = ig\n",
    "                    best_feature_idx = idx\n",
    "                    best_threshold = threshold\n",
    "        return best_feature_idx , best_threshold\n",
    "    \n",
    "    \n",
    "    def _split(self, X_column, split_thresh):\n",
    "        left_idxs = np.argwhere(X_column <= split_thresh).flatten()\n",
    "        right_idxs = np.argwhere(X_column > split_thresh).flatten()\n",
    "        return left_idxs, right_idxs\n",
    "    \n",
    "    def _information_gain(self, y, X_column, split_thresh):\n",
    "        # parent loss\n",
    "        parent_entropy = entropy(y)\n",
    "\n",
    "        # generate split\n",
    "        left_idxs, right_idxs = self._split(X_column, split_thresh)\n",
    "\n",
    "        if len(left_idxs) == 0 or len(right_idxs) == 0:\n",
    "            return 0\n",
    "\n",
    "        # compute the weighted avg. of the loss for the children\n",
    "        n = len(y)\n",
    "        n_l, n_r = len(left_idxs), len(right_idxs)\n",
    "        e_l, e_r = entropy(y[left_idxs]), entropy(y[right_idxs])\n",
    "        child_entropy = (n_l / n) * e_l + (n_r / n) * e_r\n",
    "\n",
    "        # information gain is difference in loss before vs. after split\n",
    "        ig = parent_entropy - child_entropy\n",
    "        return ig\n",
    "\n",
    "    \n",
    "    def predict (self ,X) :\n",
    "        result =np.array ( [self._traverse_tree (x , self.root) for x in X ] )\n",
    "        return result\n",
    "    def _traverse_tree(self, x, node):\n",
    "        if node.is_leaf_node():\n",
    "            return node.value\n",
    "\n",
    "        if x[node.feature] <= node.threshold:\n",
    "            return self._traverse_tree(x, node.left)\n",
    "        return self._traverse_tree(x, node.right)"
   ]
  },
  {
   "cell_type": "code",
   "execution_count": 46,
   "metadata": {},
   "outputs": [],
   "source": [
    "def accuracy (predict , test) :\n",
    "        return np.sum( predict == test)/ len(predict)"
   ]
  },
  {
   "cell_type": "code",
   "execution_count": 47,
   "metadata": {},
   "outputs": [
    {
     "ename": "AttributeError",
     "evalue": "'decision_tree' object has no attribute 'information_gain'",
     "output_type": "error",
     "traceback": [
      "\u001b[0;31m---------------------------------------------------------------------------\u001b[0m",
      "\u001b[0;31mAttributeError\u001b[0m                            Traceback (most recent call last)",
      "\u001b[1;32m/home/bafo/ML_Data/From_scratch_ML/Decision_Tree.ipynb Cell 4\u001b[0m in \u001b[0;36m<module>\u001b[0;34m\u001b[0m\n\u001b[1;32m      <a href='vscode-notebook-cell:/home/bafo/ML_Data/From_scratch_ML/Decision_Tree.ipynb#W3sZmlsZQ%3D%3D?line=5'>6</a>\u001b[0m X_train , X_test , Y_train , Y_test \u001b[39m=\u001b[39m train_test_split ( X , y , test_size\u001b[39m=\u001b[39m \u001b[39m0.2\u001b[39m , random_state\u001b[39m=\u001b[39m \u001b[39m42\u001b[39m )\n\u001b[1;32m      <a href='vscode-notebook-cell:/home/bafo/ML_Data/From_scratch_ML/Decision_Tree.ipynb#W3sZmlsZQ%3D%3D?line=7'>8</a>\u001b[0m clf \u001b[39m=\u001b[39m decision_tree ()\n\u001b[0;32m----> <a href='vscode-notebook-cell:/home/bafo/ML_Data/From_scratch_ML/Decision_Tree.ipynb#W3sZmlsZQ%3D%3D?line=8'>9</a>\u001b[0m clf\u001b[39m.\u001b[39;49mfit (X_train , Y_train)\n\u001b[1;32m     <a href='vscode-notebook-cell:/home/bafo/ML_Data/From_scratch_ML/Decision_Tree.ipynb#W3sZmlsZQ%3D%3D?line=10'>11</a>\u001b[0m y_pred \u001b[39m=\u001b[39m clf\u001b[39m.\u001b[39mpredict (X_test)\n\u001b[1;32m     <a href='vscode-notebook-cell:/home/bafo/ML_Data/From_scratch_ML/Decision_Tree.ipynb#W3sZmlsZQ%3D%3D?line=11'>12</a>\u001b[0m accuracy (y_pred , Y_test)\n",
      "\u001b[1;32m/home/bafo/ML_Data/From_scratch_ML/Decision_Tree.ipynb Cell 4\u001b[0m in \u001b[0;36mdecision_tree.fit\u001b[0;34m(self, X, y)\u001b[0m\n\u001b[1;32m     <a href='vscode-notebook-cell:/home/bafo/ML_Data/From_scratch_ML/Decision_Tree.ipynb#W3sZmlsZQ%3D%3D?line=23'>24</a>\u001b[0m \u001b[39mdef\u001b[39;00m \u001b[39mfit\u001b[39m(\u001b[39mself\u001b[39m, X, y):\n\u001b[1;32m     <a href='vscode-notebook-cell:/home/bafo/ML_Data/From_scratch_ML/Decision_Tree.ipynb#W3sZmlsZQ%3D%3D?line=24'>25</a>\u001b[0m     \u001b[39mself\u001b[39m\u001b[39m.\u001b[39mn_features \u001b[39m=\u001b[39m X\u001b[39m.\u001b[39mshape[\u001b[39m1\u001b[39m] \u001b[39mif\u001b[39;00m \u001b[39mnot\u001b[39;00m \u001b[39mself\u001b[39m\u001b[39m.\u001b[39mn_features \u001b[39melse\u001b[39;00m \u001b[39mmin\u001b[39m(\u001b[39mself\u001b[39m\u001b[39m.\u001b[39mn_features, X\u001b[39m.\u001b[39mshape[\u001b[39m1\u001b[39m])\n\u001b[0;32m---> <a href='vscode-notebook-cell:/home/bafo/ML_Data/From_scratch_ML/Decision_Tree.ipynb#W3sZmlsZQ%3D%3D?line=25'>26</a>\u001b[0m     \u001b[39mself\u001b[39m\u001b[39m.\u001b[39mroot \u001b[39m=\u001b[39m \u001b[39mself\u001b[39;49m\u001b[39m.\u001b[39;49m_grow_tree(X, y)\n",
      "\u001b[1;32m/home/bafo/ML_Data/From_scratch_ML/Decision_Tree.ipynb Cell 4\u001b[0m in \u001b[0;36mdecision_tree._grow_tree\u001b[0;34m(self, X, y, depth)\u001b[0m\n\u001b[1;32m     <a href='vscode-notebook-cell:/home/bafo/ML_Data/From_scratch_ML/Decision_Tree.ipynb#W3sZmlsZQ%3D%3D?line=36'>37</a>\u001b[0m \u001b[39melse\u001b[39;00m :\n\u001b[1;32m     <a href='vscode-notebook-cell:/home/bafo/ML_Data/From_scratch_ML/Decision_Tree.ipynb#W3sZmlsZQ%3D%3D?line=37'>38</a>\u001b[0m     feature_idx \u001b[39m=\u001b[39m np\u001b[39m.\u001b[39mrandom\u001b[39m.\u001b[39mchoice (n , \u001b[39mself\u001b[39m\u001b[39m.\u001b[39mn_features , replace \u001b[39m=\u001b[39m \u001b[39mFalse\u001b[39;00m)\n\u001b[0;32m---> <a href='vscode-notebook-cell:/home/bafo/ML_Data/From_scratch_ML/Decision_Tree.ipynb#W3sZmlsZQ%3D%3D?line=38'>39</a>\u001b[0m     best_feature , best_threshold \u001b[39m=\u001b[39m \u001b[39mself\u001b[39;49m\u001b[39m.\u001b[39;49m_best_criteria(X , y , feature_idx)\n\u001b[1;32m     <a href='vscode-notebook-cell:/home/bafo/ML_Data/From_scratch_ML/Decision_Tree.ipynb#W3sZmlsZQ%3D%3D?line=41'>42</a>\u001b[0m     left_idx , right_idx \u001b[39m=\u001b[39m \u001b[39mself\u001b[39m\u001b[39m.\u001b[39m_split (X[:,best_feature] , best_threshold)\n\u001b[1;32m     <a href='vscode-notebook-cell:/home/bafo/ML_Data/From_scratch_ML/Decision_Tree.ipynb#W3sZmlsZQ%3D%3D?line=42'>43</a>\u001b[0m     left_child \u001b[39m=\u001b[39m \u001b[39mself\u001b[39m\u001b[39m.\u001b[39m_grow_tree ( X[left_idx , :] , y[left_idx] , depth \u001b[39m+\u001b[39m\u001b[39m1\u001b[39m) \n",
      "\u001b[1;32m/home/bafo/ML_Data/From_scratch_ML/Decision_Tree.ipynb Cell 4\u001b[0m in \u001b[0;36mdecision_tree._best_criteria\u001b[0;34m(self, X, y, feature_idx)\u001b[0m\n\u001b[1;32m     <a href='vscode-notebook-cell:/home/bafo/ML_Data/From_scratch_ML/Decision_Tree.ipynb#W3sZmlsZQ%3D%3D?line=51'>52</a>\u001b[0m thresholds \u001b[39m=\u001b[39m np\u001b[39m.\u001b[39munique(X_col_idx)\n\u001b[1;32m     <a href='vscode-notebook-cell:/home/bafo/ML_Data/From_scratch_ML/Decision_Tree.ipynb#W3sZmlsZQ%3D%3D?line=52'>53</a>\u001b[0m \u001b[39mfor\u001b[39;00m threshold \u001b[39min\u001b[39;00m thresholds :\n\u001b[0;32m---> <a href='vscode-notebook-cell:/home/bafo/ML_Data/From_scratch_ML/Decision_Tree.ipynb#W3sZmlsZQ%3D%3D?line=53'>54</a>\u001b[0m     ig \u001b[39m=\u001b[39m \u001b[39mself\u001b[39;49m\u001b[39m.\u001b[39;49minformation_gain (X_col_idx , y , threshold)\n\u001b[1;32m     <a href='vscode-notebook-cell:/home/bafo/ML_Data/From_scratch_ML/Decision_Tree.ipynb#W3sZmlsZQ%3D%3D?line=54'>55</a>\u001b[0m     \u001b[39mif\u001b[39;00m (ig \u001b[39m>\u001b[39m best_ig) :\n\u001b[1;32m     <a href='vscode-notebook-cell:/home/bafo/ML_Data/From_scratch_ML/Decision_Tree.ipynb#W3sZmlsZQ%3D%3D?line=55'>56</a>\u001b[0m         best_ig \u001b[39m=\u001b[39m ig\n",
      "\u001b[0;31mAttributeError\u001b[0m: 'decision_tree' object has no attribute 'information_gain'"
     ]
    }
   ],
   "source": [
    "from sklearn import datasets\n",
    "from sklearn.model_selection import train_test_split\n",
    "dataset = datasets.load_breast_cancer ()\n",
    "X = dataset.data\n",
    "y = dataset.target\n",
    "X_train , X_test , Y_train , Y_test = train_test_split ( X , y , test_size= 0.2 , random_state= 42 )\n",
    "\n",
    "clf = decision_tree ()\n",
    "clf.fit (X_train , Y_train)\n",
    "\n",
    "y_pred = clf.predict (X_test)\n",
    "accuracy (y_pred , Y_test)"
   ]
  },
  {
   "cell_type": "code",
   "execution_count": null,
   "metadata": {},
   "outputs": [],
   "source": []
  }
 ],
 "metadata": {
  "kernelspec": {
   "display_name": "Python 3.10.7 64-bit",
   "language": "python",
   "name": "python3"
  },
  "language_info": {
   "codemirror_mode": {
    "name": "ipython",
    "version": 3
   },
   "file_extension": ".py",
   "mimetype": "text/x-python",
   "name": "python",
   "nbconvert_exporter": "python",
   "pygments_lexer": "ipython3",
   "version": "3.10.7"
  },
  "orig_nbformat": 4,
  "vscode": {
   "interpreter": {
    "hash": "e7370f93d1d0cde622a1f8e1c04877d8463912d04d973331ad4851f04de6915a"
   }
  }
 },
 "nbformat": 4,
 "nbformat_minor": 2
}
