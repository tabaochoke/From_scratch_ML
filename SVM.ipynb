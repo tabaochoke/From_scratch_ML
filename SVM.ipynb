{
 "cells": [
  {
   "cell_type": "code",
   "execution_count": 1,
   "metadata": {},
   "outputs": [
    {
     "name": "stderr",
     "output_type": "stream",
     "text": [
      "<frozen importlib._bootstrap>:241: RuntimeWarning: scipy._lib.messagestream.MessageStream size changed, may indicate binary incompatibility. Expected 56 from C header, got 64 from PyObject\n"
     ]
    }
   ],
   "source": [
    "import numpy as np\n",
    "from sklearn import datasets\n",
    "from sklearn.model_selection import train_test_split"
   ]
  },
  {
   "cell_type": "code",
   "execution_count": 39,
   "metadata": {},
   "outputs": [],
   "source": [
    "from numpy import shape\n",
    "\n",
    "\n",
    "class SVM ():\n",
    "    def __init__ (self, alpha = 0.001,lambda_param = 0.1,n_iteration =1000 ) :\n",
    "        self.alpha = alpha\n",
    "        self.lambda_param = lambda_param\n",
    "        self.n_iteration = n_iteration\n",
    "    def fit (self , X , y) :\n",
    "        y_ = np.where (y <=0 , -1 ,1)\n",
    "        m , n =X.shape\n",
    "        self.w = np.zeros (n)\n",
    "        self.b = 0\n",
    "        for _ in range(self.n_iteration) :\n",
    "            for idx, x in enumerate (X):\n",
    "            # y : 1 x 800 \n",
    "                f_x = np.matmul (x , self.w) - self.b\n",
    "                #f_x : 1 x 800\n",
    "                condition = y[idx]  * f_x >= 1\n",
    "                \n",
    "                if (condition) :\n",
    "                    self.w -= self.alpha*(2*self.lambda_param * self.w)\n",
    "                else :\n",
    "                    self.w -= self.alpha*(2*self.lambda_param * self.w -np.dot(x, y[idx]))\n",
    "                    self.b -= self.alpha * y[idx]\n",
    "    def predict (self , X) :\n",
    "        prediction = np.matmul (X , self.w) - self.b\n",
    "        return np.sign(prediction)\n",
    "def accuracy (predict , test) :\n",
    "        return np.sum( predict == test)/ len(predict)       "
   ]
  },
  {
   "cell_type": "code",
   "execution_count": 43,
   "metadata": {},
   "outputs": [],
   "source": [
    "class SVM2:\n",
    "    def __init__(self, learning_rate=0.001, lambda_param=0.01, n_iters=1000):\n",
    "        self.lr = learning_rate\n",
    "        self.lambda_param = lambda_param\n",
    "        self.n_iters = n_iters\n",
    "        self.w = None\n",
    "        self.b = None\n",
    "\n",
    "    def fit(self, X, y):\n",
    "        n_samples, n_features = X.shape\n",
    "\n",
    "        y_ = np.where(y <= 0, -1, 1)\n",
    "\n",
    "        self.w = np.zeros(n_features)\n",
    "        self.b = 0\n",
    "\n",
    "        for _ in range(self.n_iters):\n",
    "            for idx, x_i in enumerate(X):\n",
    "                condition = y_[idx] * (np.dot(x_i, self.w) - self.b) >= 1\n",
    "                if condition:\n",
    "                    self.w -= self.lr * (2 * self.lambda_param * self.w)\n",
    "                else:\n",
    "                    self.w -= self.lr * (\n",
    "                        2 * self.lambda_param * self.w - np.dot(x_i, y_[idx])\n",
    "                    )\n",
    "                    self.b -= self.lr * y_[idx]\n",
    "\n",
    "    def predict(self, X):\n",
    "        approx = np.dot(X, self.w) - self.b\n",
    "        return np.sign(approx)"
   ]
  },
  {
   "cell_type": "code",
   "execution_count": 59,
   "metadata": {},
   "outputs": [
    {
     "name": "stdout",
     "output_type": "stream",
     "text": [
      "[1 0 1 1 1 1 0 0 0 1]\n",
      "[ 1 -1  1  1  1  1 -1 -1 -1  1]\n"
     ]
    },
    {
     "data": {
      "text/plain": [
       "1.0"
      ]
     },
     "execution_count": 59,
     "metadata": {},
     "output_type": "execute_result"
    }
   ],
   "source": [
    "def accuracy (predict , test) :\n",
    "        return np.sum( predict == test)/ len(test)\n",
    "X , y= datasets.make_blobs(n_samples=1000,n_features= 10 ,centers = 2 , random_state = 42)\n",
    "X_train , X_test , Y_train , Y_test = train_test_split(X , y ,test_size =0.2 , random_state= 42)\n",
    "svm = SVM ()\n",
    "Y_train = np.where (Y_train == 0 , -1 ,1)\n",
    "svm.fit (X_train , Y_train)\n",
    "predict = svm.predict (X_test)\n",
    "a = lambda y: -1 if ( y == 0) else 1\n",
    "print (Y_test[:10])\n",
    "Y_test = np.array([a(y) for y in Y_test])\n",
    "print (Y_test[:10])\n",
    "accuracy (predict ,Y_test)"
   ]
  },
  {
   "cell_type": "code",
   "execution_count": null,
   "metadata": {},
   "outputs": [],
   "source": []
  }
 ],
 "metadata": {
  "kernelspec": {
   "display_name": "Python 3.10.7 64-bit",
   "language": "python",
   "name": "python3"
  },
  "language_info": {
   "codemirror_mode": {
    "name": "ipython",
    "version": 3
   },
   "file_extension": ".py",
   "mimetype": "text/x-python",
   "name": "python",
   "nbconvert_exporter": "python",
   "pygments_lexer": "ipython3",
   "version": "3.10.7"
  },
  "orig_nbformat": 4,
  "vscode": {
   "interpreter": {
    "hash": "e7370f93d1d0cde622a1f8e1c04877d8463912d04d973331ad4851f04de6915a"
   }
  }
 },
 "nbformat": 4,
 "nbformat_minor": 2
}
